{
 "cells": [
  {
   "cell_type": "markdown",
   "id": "47f85f28",
   "metadata": {},
   "source": [
    "# Introduction\n",
    "\n",
    "This notebook implements a chatbot using Python. The project aims to create an interactive and efficient conversation model."
   ]
  },
  {
   "cell_type": "code",
   "execution_count": 50,
   "metadata": {},
   "outputs": [],
   "source": [
    "import openai\n",
    "from langchain.prompts import ChatPromptTemplate\n",
    "from langchain.chat_models import ChatOpenAI\n",
    "from langchain_community.document_loaders import WebBaseLoader\n",
    "from langchain_community.document_loaders import YoutubeLoader\n",
    "from langchain_community.document_loaders import PyPDFLoader"
   ]
  },
  {
   "cell_type": "markdown",
   "id": "b69cd3c4",
   "metadata": {},
   "source": [
    "# Importing Libraries\n",
    "\n",
    "In this section, we import the necessary libraries for building and running the chatbot."
   ]
  },
  {
   "cell_type": "code",
   "execution_count": null,
   "metadata": {},
   "outputs": [],
   "source": [
    "\n",
    "api_key=\"chave_api\""
   ]
  },
  {
   "cell_type": "markdown",
   "id": "3dfbbd64",
   "metadata": {},
   "source": [
    "# Data Loading and Preprocessing\n",
    "\n",
    "Here, we load and preprocess the data required for training the chatbot model."
   ]
  },
  {
   "cell_type": "code",
   "execution_count": null,
   "metadata": {},
   "outputs": [],
   "source": [
    "\n",
    "client = openai.OpenAI(api_key=\"chave_api\")"
   ]
  },
  {
   "cell_type": "markdown",
   "id": "91925f72",
   "metadata": {},
   "source": [
    "# Model Training\n",
    "\n",
    "In this section, we train the chatbot model using the preprocessed data."
   ]
  },
  {
   "cell_type": "code",
   "execution_count": null,
   "metadata": {},
   "outputs": [],
   "source": [
    "\n",
    "\n",
    "resposta = client.chat.completions.create(\n",
    "    model=\"gpt-4o-mini\",\n",
    "    messages=[{\"role\": \"user\", \"content\": \"Olá, modelo! Quem é você?\"}]\n",
    ")\n",
    "\n",
    "print(resposta.choices[0].message.content)"
   ]
  },
  {
   "cell_type": "markdown",
   "id": "414eb045",
   "metadata": {},
   "source": [
    "# Model Evaluation\n",
    "\n",
    "We evaluate the performance of the trained chatbot model using appropriate metrics."
   ]
  },
  {
   "cell_type": "code",
   "execution_count": null,
   "metadata": {},
   "outputs": [],
   "source": [
    "template=ChatPromptTemplate.from_messages(\n",
    "    [('user','Traduza {expressao} para a lingua {lingua}')]\n",
    ")\n",
    "\n",
    "print(template)"
   ]
  },
  {
   "cell_type": "markdown",
   "id": "258b3bcd",
   "metadata": {},
   "source": [
    "# Chatbot Interaction\n",
    "\n",
    "Finally, we interact with the chatbot to test its responses and capabilities."
   ]
  },
  {
   "cell_type": "code",
   "execution_count": 55,
   "metadata": {},
   "outputs": [
    {
     "data": {
      "text/plain": [
       "ChatPromptValue(messages=[HumanMessage(content='Traduza beleza para a lingua inglês', additional_kwargs={}, response_metadata={})])"
      ]
     },
     "execution_count": 55,
     "metadata": {},
     "output_type": "execute_result"
    }
   ],
   "source": [
    "template.invoke({'expressao':'beleza', 'lingua': 'inglês'})"
   ]
  },
  {
   "cell_type": "code",
   "execution_count": 56,
   "metadata": {},
   "outputs": [],
   "source": [
    "chat = ChatOpenAI(model_name=\"gpt-4o-mini\"  , temperature=0, openai_api_key=api_key)\n"
   ]
  },
  {
   "cell_type": "code",
   "execution_count": 57,
   "metadata": {},
   "outputs": [],
   "source": [
    "chain=template | chat"
   ]
  },
  {
   "cell_type": "code",
   "execution_count": 58,
   "metadata": {},
   "outputs": [],
   "source": [
    "resposta= chain.invoke({'expressao':'beleza', 'lingua': 'inglês'})"
   ]
  },
  {
   "cell_type": "code",
   "execution_count": null,
   "metadata": {},
   "outputs": [],
   "source": [
    "print(resposta.content)"
   ]
  },
  {
   "cell_type": "code",
   "execution_count": null,
   "metadata": {},
   "outputs": [],
   "source": [
    "template=ChatPromptTemplate.from_messages(\n",
    "    [('system','Você é um assistente que sempre responde com piadas'),\n",
    "     ('user','Traduza {expressao} para a lingua {lingua}')]\n",
    ")\n",
    "\n",
    "\n",
    "chain=template | chat\n",
    "\n",
    "resposta= chain.invoke({'expressao':'beleza', 'lingua': 'inglês'})\n",
    "print(resposta.content)"
   ]
  },
  {
   "cell_type": "code",
   "execution_count": null,
   "metadata": {},
   "outputs": [],
   "source": [
    "chat = ChatOpenAI(model_name=\"gpt-4o-mini\"  , temperature=0, openai_api_key=api_key)\n",
    "\n",
    "\n",
    "def resposta_bot(mensagens):\n",
    " \n",
    "    mensagens_modelo=[('system','Você é um assistente amigavél chamado leal')]\n",
    "    mensagens_modelo+=mensagens\n",
    "    template=ChatPromptTemplate.from_messages(mensagens_modelo)\n",
    "    chain = template | chat\n",
    "    return chain.invoke({}).content\n",
    "\n",
    "\n",
    "print ('Bem-vindo ao lealbot')\n",
    "\n",
    "mensagens=[]\n",
    "while True:\n",
    "    pergunta=input('Usuario: ')\n",
    "    if pergunta.lower()=='x':\n",
    "        break\n",
    "    mensagens.append(('user', pergunta))\n",
    "    resposta=resposta_bot(mensagens)\n",
    "    mensagens.append(('assistant',resposta))\n",
    "    print(f\"bot:{resposta}\")\n",
    "\n",
    "print('Muito obrigado por usar lealbot')\n",
    "print(mensagens)"
   ]
  },
  {
   "cell_type": "code",
   "execution_count": null,
   "metadata": {},
   "outputs": [],
   "source": [
    "loader=WebBaseLoader(\"https://asimov.academy/\")\n",
    "lista_documentos=loader.load()\n",
    "print(lista_documentos)"
   ]
  },
  {
   "cell_type": "code",
   "execution_count": null,
   "metadata": {},
   "outputs": [],
   "source": [
    "print(lista_documentos[0].page_content)"
   ]
  },
  {
   "cell_type": "code",
   "execution_count": null,
   "metadata": {},
   "outputs": [],
   "source": [
    "documento=''\n",
    "for doc in lista_documentos:\n",
    "    documento=documento+doc.page_content"
   ]
  },
  {
   "cell_type": "code",
   "execution_count": null,
   "metadata": {},
   "outputs": [],
   "source": [
    "from langchain.prompts import ChatPromptTemplate\n",
    "\n",
    "template = ChatPromptTemplate.from_messages([\n",
    "    ('system', 'Você é um assistente amigável chamado lealbot e tem acesso às seguintes informações para dar as suas respostas: {documentos_informados}'),\n",
    "    ('user', '{input}')\n",
    "])\n",
    "\n",
    "chain = template | chat\n",
    "resposta = chain.invoke({'documentos_informados': documento, 'input': 'Quais as trilhas disponíveis na Asimov?'})\n",
    "print(resposta)\n"
   ]
  },
  {
   "cell_type": "code",
   "execution_count": null,
   "metadata": {},
   "outputs": [],
   "source": [
    "print(resposta.content)"
   ]
  },
  {
   "cell_type": "markdown",
   "metadata": {},
   "source": [
    "# Access to YouTube videos and PDFs"
   ]
  },
  {
   "cell_type": "code",
   "execution_count": null,
   "metadata": {},
   "outputs": [],
   "source": [
    "url=\"https://www.youtube.com/watch?v=Q_iRpMPYtro\"\n",
    "\n",
    "loader=YoutubeLoader.from_youtube_url(\n",
    "    url,\n",
    "    language=['pt']\n",
    ")\n",
    "\n",
    "lista_documentos=loader.load()"
   ]
  },
  {
   "cell_type": "code",
   "execution_count": null,
   "metadata": {},
   "outputs": [],
   "source": [
    "documento=''\n",
    "\n",
    "for doc in lista_documentos:\n",
    "    documento=documento+doc.page_content\n",
    "\n",
    "print(documento)"
   ]
  },
  {
   "cell_type": "code",
   "execution_count": null,
   "metadata": {},
   "outputs": [],
   "source": [
    "template=ChatPromptTemplate.from_messages([\n",
    "    ('system', 'Você é um assistente amigável que possui as seguintes informações para formular uma resposta:{informacoes}'),\n",
    "    ('user', '{input}')\n",
    "\n",
    "])\n",
    "\n",
    "chain_youtube=template|chat\n",
    "\n",
    "resposta=chain_youtube.invoke({'informacoes':documento, 'input': 'Cite 2 contradições citadas pelo interlocutor'})\n",
    "print(resposta.content)"
   ]
  },
  {
   "cell_type": "markdown",
   "metadata": {},
   "source": [
    "# Acess to pdf"
   ]
  },
  {
   "cell_type": "code",
   "execution_count": null,
   "metadata": {},
   "outputs": [],
   "source": [
    "caminho=r'caminho_do_arquivo'\n",
    "loader=PyPDFLoader(caminho)\n",
    "lista_documentos=loader.load()"
   ]
  },
  {
   "cell_type": "code",
   "execution_count": null,
   "metadata": {},
   "outputs": [],
   "source": [
    "documento=''\n",
    "for doc in lista_documentos:\n",
    "    documento=documento+doc.page_content"
   ]
  },
  {
   "cell_type": "code",
   "execution_count": null,
   "metadata": {},
   "outputs": [],
   "source": [
    "template=ChatPromptTemplate.from_messages([\n",
    "    ('system', 'Você é um assistente amigável que possui as seguintes informações para formular uma resposta:{informacoes}'),\n",
    "    ('user', '{input}')\n",
    "\n",
    "])\n",
    "\n",
    "chain_youtube=template|chat\n",
    "\n",
    "resposta=chain_youtube.invoke({'informacoes':documento, 'input': 'Por qual cidade passaremos na viagem'})\n",
    "print(resposta.content)"
   ]
  },
  {
   "cell_type": "markdown",
   "metadata": {},
   "source": [
    "# Final Chatbot Structure"
   ]
  },
  {
   "cell_type": "code",
   "execution_count": null,
   "metadata": {},
   "outputs": [],
   "source": [
    "def resposta_bot(mensagens,documento):\n",
    "    mensagem_system='''Você é um assistente amigavél chamado lealbot.\n",
    "    Você utiliza as seguintes informações para formular as suas respostas:{informacoes}'''\n",
    "    mensagens_modelo=[('system',mensagem_system)]\n",
    "    mensagens_modelo+=mensagens\n",
    "    template=ChatPromptTemplate.from_messages(mensagens_modelo)\n",
    "    chain = template | chat\n",
    "    return chain.invoke({'informacoes':documento}).content"
   ]
  },
  {
   "cell_type": "code",
   "execution_count": null,
   "metadata": {},
   "outputs": [],
   "source": [
    "def carrega_site():\n",
    "    url_site=input('digite a url do site:')\n",
    "    loader=WebBaseLoader(url_site)\n",
    "    lista_documentos=loader.load()\n",
    "    documento=''\n",
    "    for doc in lista_documentos:\n",
    "        documento=documento+doc.page_content\n",
    "    return documento\n",
    "\n",
    "def carrega_pdf():\n",
    "    caminho=r'caminho_do_arquivo'\n",
    "    loader=PyPDFLoader(caminho)\n",
    "    lista_documentos=loader.load()\n",
    "    documento=''\n",
    "    for doc in lista_documentos:\n",
    "        documento=documento+doc.page_content\n",
    "    return documento\n",
    "\n",
    "def carrega_Youtube():\n",
    "    url_youtube=input('digite a url do video:')\n",
    "    loader=YoutubeLoader.from_youtube_url(url,language=['pt'])\n",
    "    lista_documentos=loader.load()\n",
    "    documento=''\n",
    "    for doc in lista_documentos:\n",
    "        documento=documento+doc.page_content\n",
    "    return documento"
   ]
  },
  {
   "cell_type": "code",
   "execution_count": null,
   "metadata": {},
   "outputs": [],
   "source": [
    "print ('Bem-vindo ao lealbot')\n",
    "\n",
    "\n",
    "texto_selecao=''' Digite 1 se você quiser conversar com um site \n",
    "Digite 2 se você quiser conversar com um pdf\n",
    "Digite 3 se você quiser conversar com um YouTube'''\n",
    "\n",
    "\n",
    "while True:\n",
    "    selecao=input(texto_selecao)\n",
    "    if selecao=='1':\n",
    "        documento=carrega_site()\n",
    "        break\n",
    "    if selecao=='2':\n",
    "        documento=carrega_pdf()\n",
    "        break\n",
    "    if selecao=='3':\n",
    "        documento=carrega_Youtube()\n",
    "        break\n",
    "    if selecao=='x':\n",
    "        break\n",
    "    print('Digite um valor entre 1 e 3')\n",
    "\n",
    "mensagens=[]\n",
    "while True:\n",
    "    pergunta=input('Usuario: ')\n",
    "    if pergunta.lower()=='x':\n",
    "        break\n",
    "    mensagens.append(('user', pergunta))\n",
    "    resposta=resposta_bot(mensagens,documento)\n",
    "    mensagens.append(('assistant',resposta))\n",
    "    print(f'usuário: {pergunta}\\n')\n",
    "    print(f\"bot:\\n{resposta.replace('. ', '.\\n')}\")\n",
    "\n",
    "print('Muito obrigado por usar lealbot')"
   ]
  }
 ],
 "metadata": {
  "kernelspec": {
   "display_name": "ENV",
   "language": "python",
   "name": "python3"
  },
  "language_info": {
   "codemirror_mode": {
    "name": "ipython",
    "version": 3
   },
   "file_extension": ".py",
   "mimetype": "text/x-python",
   "name": "python",
   "nbconvert_exporter": "python",
   "pygments_lexer": "ipython3",
   "version": "3.12.9"
  }
 },
 "nbformat": 4,
 "nbformat_minor": 2
}
